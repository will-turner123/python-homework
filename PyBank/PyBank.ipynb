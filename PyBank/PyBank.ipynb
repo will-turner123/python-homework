{
 "cells": [
  {
   "cell_type": "code",
   "execution_count": 6,
   "metadata": {},
   "outputs": [],
   "source": [
    "from pathlib import Path\n",
    "import csv"
   ]
  },
  {
   "cell_type": "code",
   "execution_count": 7,
   "metadata": {},
   "outputs": [],
   "source": [
    "f = Path('work/budget_data.csv')\n",
    "\n",
    "months = 0\n",
    "net_total = 0\n",
    "greatest_increase = [\"Date\", 0]\n",
    "greatest_decrease = [\"Date\", 0]"
   ]
  },
  {
   "cell_type": "code",
   "execution_count": 8,
   "metadata": {},
   "outputs": [],
   "source": [
    "with open(f, 'r') as file:\n",
    "    csvreader = csv.reader(file, delimiter=',')\n",
    "    next(csvreader)\n",
    "    for row in csvreader:\n",
    "        date = row[0]\n",
    "        profit_loss = int(row[1])\n",
    "        if profit_loss > greatest_increase[1]:\n",
    "            greatest_increase[0] = date\n",
    "            greatest_increase[1] = profit_loss\n",
    "        if profit_loss < greatest_decrease[1]:\n",
    "            greatest_decrease[0] = date\n",
    "            greatest_decrease[1] = profit_loss\n",
    "        months += 1\n",
    "        net_total += profit_loss"
   ]
  },
  {
   "cell_type": "code",
   "execution_count": 9,
   "metadata": {},
   "outputs": [],
   "source": [
    "average = round(net_total / months)"
   ]
  },
  {
   "cell_type": "code",
   "execution_count": 10,
   "metadata": {},
   "outputs": [
    {
     "name": "stdout",
     "output_type": "stream",
     "text": [
      "Financial Analysis\n",
      "----------------------\n",
      "Total Months: 86\n",
      "Total: $38382578\n",
      "Average Change: $446309\n",
      "Greatest Increase in Profits: Feb-2012 (1170593)\n",
      "Greatest Decrease in Profits: Sep-2013 (-1196225)\n"
     ]
    }
   ],
   "source": [
    "print('Financial Analysis')\n",
    "print('----------------------')\n",
    "print(f'Total Months: {months}')\n",
    "print(f'Total: ${net_total}')\n",
    "print(f'Average Change: ${average}')\n",
    "print(f'Greatest Increase in Profits: {greatest_increase[0]} ({greatest_increase[1]})')\n",
    "print(f'Greatest Decrease in Profits: {greatest_decrease[0]} ({greatest_decrease[1]})')"
   ]
  }
 ],
 "metadata": {
  "kernelspec": {
   "display_name": "Python 3",
   "language": "python",
   "name": "python3"
  },
  "language_info": {
   "codemirror_mode": {
    "name": "ipython",
    "version": 3
   },
   "file_extension": ".py",
   "mimetype": "text/x-python",
   "name": "python",
   "nbconvert_exporter": "python",
   "pygments_lexer": "ipython3",
   "version": "3.8.3"
  }
 },
 "nbformat": 4,
 "nbformat_minor": 4
}
