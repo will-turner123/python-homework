{
 "cells": [
  {
   "cell_type": "code",
   "execution_count": 3,
   "metadata": {},
   "outputs": [],
   "source": [
    "from pathlib import Path\n",
    "import csv"
   ]
  },
  {
   "cell_type": "code",
   "execution_count": 4,
   "metadata": {},
   "outputs": [],
   "source": [
    "menu = []\n",
    "sales = []"
   ]
  },
  {
   "cell_type": "code",
   "execution_count": 5,
   "metadata": {},
   "outputs": [],
   "source": [
    "with open(Path('work/menu_data.csv'), 'r') as f:\n",
    "    csvreader = csv.reader(f, delimiter=',')\n",
    "    next(f)\n",
    "    for row in csvreader:\n",
    "        # item, category, description, price, cost\n",
    "        menu.append(row)"
   ]
  },
  {
   "cell_type": "code",
   "execution_count": 6,
   "metadata": {},
   "outputs": [],
   "source": [
    "with open(Path('work/sales_data.csv'), 'r') as f:\n",
    "    csvreader = csv.reader(f, delimiter=',')\n",
    "    # Line_Item_ID,Date,Credit_Card_Number,Quantity,Menu_Item\n",
    "    next(csvreader)\n",
    "    for row in csvreader:\n",
    "        sales.append(row)"
   ]
  },
  {
   "cell_type": "code",
   "execution_count": 7,
   "metadata": {},
   "outputs": [],
   "source": [
    "report = {}"
   ]
  },
  {
   "cell_type": "code",
   "execution_count": 9,
   "metadata": {},
   "outputs": [],
   "source": [
    "for row in sales:\n",
    "    quantity = int(row[3])\n",
    "    menu_item = row[4]\n",
    "    if menu_item not in report:\n",
    "        report[menu_item] = {\n",
    "            \"01-count\": 0,\n",
    "            \"02-revenue\": 0,\n",
    "            \"03-cogs\": 0,\n",
    "            \"04-profit\": 0\n",
    "        }\n",
    "    record_found = False\n",
    "    for record in menu:\n",
    "        item = record[0]\n",
    "        if item == menu_item:\n",
    "            # broke unless i made the price a float\n",
    "            price = int(float(record[3]))\n",
    "            cost = int(record[4])\n",
    "            profit = price - cost\n",
    "\n",
    "            report[menu_item][\"01-count\"] += quantity\n",
    "            report[menu_item][\"02-revenue\"] += price * quantity\n",
    "            report[menu_item][\"03-cogs\"] += cost * quantity\n",
    "            report[menu_item][\"04-profit\"] += profit * quantity\n",
    "            record_found = True\n",
    "    if record_found is False:\n",
    "        print(\"No matching records found!\")"
   ]
  },
  {
   "cell_type": "code",
   "execution_count": 10,
   "metadata": {},
   "outputs": [
    {
     "name": "stdout",
     "output_type": "stream",
     "text": [
      "spicy miso ramen: {'01-count': 18476, '02-revenue': 221712, '03-cogs': 92380, '04-profit': 129332}\n",
      "tori paitan ramen: {'01-count': 18312, '02-revenue': 238056, '03-cogs': 109872, '04-profit': 128184}\n",
      "truffle butter ramen: {'01-count': 17964, '02-revenue': 251496, '03-cogs': 125748, '04-profit': 125748}\n",
      "tonkotsu ramen: {'01-count': 18576, '02-revenue': 241488, '03-cogs': 111456, '04-profit': 130032}\n",
      "vegetarian spicy miso: {'01-count': 18432, '02-revenue': 221184, '03-cogs': 92160, '04-profit': 129024}\n",
      "shio ramen: {'01-count': 18360, '02-revenue': 201960, '03-cogs': 91800, '04-profit': 110160}\n",
      "miso crab ramen: {'01-count': 17780, '02-revenue': 213360, '03-cogs': 106680, '04-profit': 106680}\n",
      "nagomi shoyu: {'01-count': 18264, '02-revenue': 200904, '03-cogs': 91320, '04-profit': 109584}\n",
      "soft-shell miso crab ramen: {'01-count': 18260, '02-revenue': 255640, '03-cogs': 127820, '04-profit': 127820}\n",
      "burnt garlic tonkotsu ramen: {'01-count': 18140, '02-revenue': 253960, '03-cogs': 108840, '04-profit': 145120}\n",
      "vegetarian curry + king trumpet mushroom ramen: {'01-count': 17648, '02-revenue': 229424, '03-cogs': 123536, '04-profit': 105888}\n"
     ]
    }
   ],
   "source": [
    "for key in report:\n",
    "    print(key + \": \" + str(report[key]))"
   ]
  },
  {
   "cell_type": "code",
   "execution_count": 11,
   "metadata": {},
   "outputs": [],
   "source": [
    "output_file = Path('output.txt')\n",
    "\n",
    "with open(output_file, 'w') as f:\n",
    "    f.write(str(report))"
   ]
  },
  {
   "cell_type": "code",
   "execution_count": null,
   "metadata": {},
   "outputs": [],
   "source": []
  }
 ],
 "metadata": {
  "kernelspec": {
   "display_name": "Python 3",
   "language": "python",
   "name": "python3"
  },
  "language_info": {
   "codemirror_mode": {
    "name": "ipython",
    "version": 3
   },
   "file_extension": ".py",
   "mimetype": "text/x-python",
   "name": "python",
   "nbconvert_exporter": "python",
   "pygments_lexer": "ipython3",
   "version": "3.8.3"
  }
 },
 "nbformat": 4,
 "nbformat_minor": 4
}
